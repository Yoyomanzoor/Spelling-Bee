{
 "cells": [
  {
   "cell_type": "code",
   "execution_count": 78,
   "metadata": {},
   "outputs": [],
   "source": [
    "from IPython.display import display, Markdown, clear_output, IFrame\n",
    "from ipywidgets import *\n",
    "import random\n",
    "import webbrowser"
   ]
  },
  {
   "cell_type": "code",
   "execution_count": 111,
   "metadata": {},
   "outputs": [],
   "source": [
    "s = open('wordlist.txt','r').read()\n",
    "\n",
    "difficulty = [x.split(' ')[0] for x in s.split(\"\\n\")]\n",
    "words = [x.split(' ')[1].replace(\",\",\"\") for x in s.split(\"\\n\")]\n",
    "definitions = [' '.join(x.split(' ')[2:]) for x in s.split(\"\\n\")]\n",
    "\n",
    "temp = list(zip(words,difficulty))\n",
    "definitions = dict(zip(words,definitions))\n",
    "\n",
    "difficulty = {}\n",
    "for (x,y) in temp:\n",
    "    if y in difficulty:\n",
    "        difficulty[y].append(x)\n",
    "    else:\n",
    "        difficulty[y] = [x]\n",
    "\n",
    "for x in difficulty:\n",
    "    difficulty[x] = random.sample(difficulty[x],len(difficulty[x]))"
   ]
  },
  {
   "cell_type": "code",
   "execution_count": 112,
   "metadata": {},
   "outputs": [
    {
     "data": {
      "application/vnd.jupyter.widget-view+json": {
       "model_id": "3a81724ca3cc4ad78e12c30245040916",
       "version_major": 2,
       "version_minor": 0
      },
      "text/plain": [
       "Dropdown(description='Difficulty', options=('1', '2', '3', '4', '5'), value='1')"
      ]
     },
     "metadata": {},
     "output_type": "display_data"
    },
    {
     "data": {
      "application/vnd.jupyter.widget-view+json": {
       "model_id": "01861324e6864706aa958249dfd10996",
       "version_major": 2,
       "version_minor": 0
      },
      "text/plain": [
       "Button(description='Select a word', style=ButtonStyle())"
      ]
     },
     "metadata": {},
     "output_type": "display_data"
    },
    {
     "data": {
      "text/markdown": [
       "Word: Demesne<br>Definition: is possession of land as one's own.<br>Category: 5<br><sup>[open link](https://translate.google.com/#view=home&op=translate&sl=en&tl=en&text=Demesne)"
      ],
      "text/plain": [
       "<IPython.core.display.Markdown object>"
      ]
     },
     "metadata": {},
     "output_type": "display_data"
    }
   ],
   "source": [
    "difficulty_choice = Dropdown(options=['1','2','3','4','5'],description=\"Difficulty\")\n",
    "\n",
    "def choose(b):\n",
    "    try:\n",
    "        w = difficulty[difficulty_choice.get_interact_value()][0]\n",
    "        difficulty[difficulty_choice.get_interact_value()] = difficulty[difficulty_choice.get_interact_value()][1:]\n",
    "        url = \"https://translate.google.com/#view=home&op=translate&sl=en&tl=en&text=\" + w\n",
    "        m = \"Word: \" + w + \"<br>Definition: \" + definitions[w] + \"<br>Category: \" + difficulty_choice.get_interact_value() + \"<br><sup>[open link](\" + url + \")\"\n",
    "        \n",
    "        display(Markdown(m))\n",
    "        webbrowser.open_new_tab(url)\n",
    "    except IndexError:\n",
    "        m = \"No more words left in this category\"\n",
    "        display(Markdown(m))\n",
    "\n",
    "word_choice = Button(description=\"Select a word\")\n",
    "word_choice.on_click(choose)\n",
    "\n",
    "display(difficulty_choice,word_choice)"
   ]
  },
  {
   "cell_type": "code",
   "execution_count": 106,
   "metadata": {},
   "outputs": [
    {
     "name": "stdout",
     "output_type": "stream",
     "text": [
      "Words Left: \n",
      "1: 285\n",
      "2: 132\n",
      "3: 277\n",
      "4: 107\n",
      "5: 13\n"
     ]
    }
   ],
   "source": [
    "print(\"Words Left: \\n1: \" + str(len(difficulty['1'])) + \n",
    "      \"\\n2: \" + str(len(difficulty['2'])) + \n",
    "      \"\\n3: \" + str(len(difficulty['3'])) + \n",
    "      \"\\n4: \" + str(len(difficulty['4'])) + \n",
    "      \"\\n5: \" + str(len(difficulty['5'])))"
   ]
  }
 ],
 "metadata": {
  "kernelspec": {
   "display_name": "Python 3",
   "language": "python",
   "name": "python3"
  },
  "language_info": {
   "codemirror_mode": {
    "name": "ipython",
    "version": 3
   },
   "file_extension": ".py",
   "mimetype": "text/x-python",
   "name": "python",
   "nbconvert_exporter": "python",
   "pygments_lexer": "ipython3",
   "version": "3.6.10"
  },
  "latex_envs": {
   "LaTeX_envs_menu_present": true,
   "autoclose": false,
   "autocomplete": true,
   "bibliofile": "biblio.bib",
   "cite_by": "apalike",
   "current_citInitial": 1,
   "eqLabelWithNumbers": true,
   "eqNumInitial": 1,
   "hotkeys": {
    "equation": "Ctrl-E",
    "itemize": "Ctrl-I"
   },
   "labels_anchors": false,
   "latex_user_defs": false,
   "report_style_numbering": false,
   "user_envs_cfg": false
  },
  "toc": {
   "base_numbering": 1,
   "nav_menu": {},
   "number_sections": true,
   "sideBar": false,
   "skip_h1_title": false,
   "title_cell": "Table of Contents",
   "title_sidebar": "Contents",
   "toc_cell": false,
   "toc_position": {},
   "toc_section_display": true,
   "toc_window_display": false
  },
  "varInspector": {
   "cols": {
    "lenName": 16,
    "lenType": 16,
    "lenVar": 40
   },
   "kernels_config": {
    "python": {
     "delete_cmd_postfix": "",
     "delete_cmd_prefix": "del ",
     "library": "var_list.py",
     "varRefreshCmd": "print(var_dic_list())"
    },
    "r": {
     "delete_cmd_postfix": ") ",
     "delete_cmd_prefix": "rm(",
     "library": "var_list.r",
     "varRefreshCmd": "cat(var_dic_list()) "
    }
   },
   "types_to_exclude": [
    "module",
    "function",
    "builtin_function_or_method",
    "instance",
    "_Feature"
   ],
   "window_display": false
  }
 },
 "nbformat": 4,
 "nbformat_minor": 2
}
