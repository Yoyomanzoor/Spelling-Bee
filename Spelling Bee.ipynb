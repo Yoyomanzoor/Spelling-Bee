{
 "cells": [
  {
   "cell_type": "code",
   "execution_count": 78,
   "metadata": {},
   "outputs": [],
   "source": [
    "from IPython.display import display, Markdown, clear_output, IFrame\n",
    "from ipywidgets import *\n",
    "import random\n",
    "import webbrowser"
   ]
  },
  {
   "cell_type": "code",
   "execution_count": 2,
   "metadata": {},
   "outputs": [],
   "source": [
    "s = "
   ]
  },
  {
   "cell_type": "code",
   "execution_count": 7,
   "metadata": {},
   "outputs": [],
   "source": [
    "difficulty = [x.split(' ')[0] for x in s.split(\"\\n\")[1:]]\n",
    "words = [x.split(' ')[1].replace(\",\",\"\") for x in s.split(\"\\n\")[1:]]\n",
    "definitions = [' '.join(x.split(' ')[2:]) for x in s.split(\"\\n\")[1:]]\n",
    "\n",
    "temp = list(zip(words,difficulty))\n",
    "definitions = dict(zip(words,definitions))\n",
    "\n",
    "difficulty = {}\n",
    "for (x,y) in temp:\n",
    "    if y in difficulty:\n",
    "        difficulty[y].append(x)\n",
    "    else:\n",
    "        difficulty[y] = [x]"
   ]
  },
  {
   "cell_type": "code",
   "execution_count": 8,
   "metadata": {},
   "outputs": [],
   "source": [
    "for x in difficulty:\n",
    "    difficulty[x] = random.sample(difficulty[x],len(difficulty[x]))"
   ]
  },
  {
   "cell_type": "code",
   "execution_count": 87,
   "metadata": {},
   "outputs": [
    {
     "data": {
      "application/vnd.jupyter.widget-view+json": {
       "model_id": "c3d48ca7cc934213b39cadace25c76e7",
       "version_major": 2,
       "version_minor": 0
      },
      "text/plain": [
       "Dropdown(description='Difficulty', options=('Eh', 'Hard', 'Harder', 'Hardest'), value='Eh')"
      ]
     },
     "metadata": {},
     "output_type": "display_data"
    },
    {
     "data": {
      "application/vnd.jupyter.widget-view+json": {
       "model_id": "4f58a5dd352340269af217cdcabaa37d",
       "version_major": 2,
       "version_minor": 0
      },
      "text/plain": [
       "Button(description='Select a word', style=ButtonStyle())"
      ]
     },
     "metadata": {},
     "output_type": "display_data"
    },
    {
     "name": "stdout",
     "output_type": "stream",
     "text": [
      "Category: Eh\n",
      "Word: Chameleon\n",
      "Definition: is a lizard that can, as protection, change color.\n",
      "\n",
      "Category: Eh\n",
      "Word: Abscess\n",
      "Definition: is a localized collection of pus in tissues of the body.\n",
      "\n",
      "Category: Eh\n",
      "Word: Aerobiology\n",
      "Definition: a branch of biology that studies organic particles that are transported by the air\n",
      "\n"
     ]
    }
   ],
   "source": [
    "difficulty_choice = Dropdown(options=['Eh','Hard','Harder','Hardest'],description=\"Difficulty\")\n",
    "\n",
    "def choose(b):\n",
    "    w = difficulty[difficulty_choice.get_interact_value()][0]\n",
    "    difficulty[difficulty_choice.get_interact_value()] = difficulty[difficulty_choice.get_interact_value()][1:]\n",
    "    print(\"Word: \" + w)\n",
    "    print(\"Definition: \" + definitions[w])\n",
    "    print(\"Category: \" + difficulty_choice.get_interact_value() + \"\\n\")\n",
    "\n",
    "    url = \"https://translate.google.com/#view=home&op=translate&sl=en&tl=en&text=\" + w\n",
    "    webbrowser.open_new_tab(url)\n",
    "\n",
    "word_choice = Button(description=\"Select a word\")\n",
    "word_choice.on_click(choose)\n",
    "\n",
    "display(difficulty_choice,word_choice)"
   ]
  }
 ],
 "metadata": {
  "kernelspec": {
   "display_name": "Python 3",
   "language": "python",
   "name": "python3"
  },
  "language_info": {
   "codemirror_mode": {
    "name": "ipython",
    "version": 3
   },
   "file_extension": ".py",
   "mimetype": "text/x-python",
   "name": "python",
   "nbconvert_exporter": "python",
   "pygments_lexer": "ipython3",
   "version": "3.6.10"
  },
  "latex_envs": {
   "LaTeX_envs_menu_present": true,
   "autoclose": false,
   "autocomplete": true,
   "bibliofile": "biblio.bib",
   "cite_by": "apalike",
   "current_citInitial": 1,
   "eqLabelWithNumbers": true,
   "eqNumInitial": 1,
   "hotkeys": {
    "equation": "Ctrl-E",
    "itemize": "Ctrl-I"
   },
   "labels_anchors": false,
   "latex_user_defs": false,
   "report_style_numbering": false,
   "user_envs_cfg": false
  },
  "toc": {
   "base_numbering": 1,
   "nav_menu": {},
   "number_sections": true,
   "sideBar": false,
   "skip_h1_title": false,
   "title_cell": "Table of Contents",
   "title_sidebar": "Contents",
   "toc_cell": false,
   "toc_position": {},
   "toc_section_display": true,
   "toc_window_display": false
  },
  "varInspector": {
   "cols": {
    "lenName": 16,
    "lenType": 16,
    "lenVar": 40
   },
   "kernels_config": {
    "python": {
     "delete_cmd_postfix": "",
     "delete_cmd_prefix": "del ",
     "library": "var_list.py",
     "varRefreshCmd": "print(var_dic_list())"
    },
    "r": {
     "delete_cmd_postfix": ") ",
     "delete_cmd_prefix": "rm(",
     "library": "var_list.r",
     "varRefreshCmd": "cat(var_dic_list()) "
    }
   },
   "types_to_exclude": [
    "module",
    "function",
    "builtin_function_or_method",
    "instance",
    "_Feature"
   ],
   "window_display": false
  }
 },
 "nbformat": 4,
 "nbformat_minor": 2
}
