{
 "cells": [
  {
   "cell_type": "markdown",
   "metadata": {},
   "source": [
    "# Spelling Bee\n",
    "\n",
    "###### Yoyomanzoor, for Loyola MSA<br>February 2020"
   ]
  },
  {
   "cell_type": "markdown",
   "metadata": {},
   "source": [
    "<a href=\"https://www.facebook.com/groups/loyolamsa/\"><img src=\"MSA.jpg?1\" alt=\"\" align=\"left\" style=\"width: 500px\"/></a>"
   ]
  },
  {
   "cell_type": "markdown",
   "metadata": {},
   "source": [
    "Press ctrl+enter on a cell to run it. run the first two cells to start the game. To restart the game (and reset all words), run cell 1. To view words left in each category, run cell 3. To view used words, run cell 4.\n",
    "\n",
    "Words are banked into 5 difficulty levels:\n",
    "1. Easy and common words\n",
    "2. Somewhat easy, less common\n",
    "3. Long words or not common words\n",
    "4. Difficult words\n",
    "5. Impossible words\n",
    "\n",
    "The game runs in cell 2. Select difficulty level, select a word. The cell will print the word and a small definition, and will provide links to the _google translate_ for the word (has spelling, pronunciation, definition, and example sentences) and the _etymology_ (has word origin and history).\n",
    "\n",
    "Caution! Rerunning cell 1 will refresh the word list!"
   ]
  },
  {
   "cell_type": "code",
   "execution_count": 1,
   "metadata": {},
   "outputs": [],
   "source": [
    "# CELL 1\n",
    "\n",
    "from IPython.display import display, Markdown, clear_output\n",
    "from ipywidgets import *\n",
    "import webbrowser\n",
    "from lib import spellingbee as sb\n",
    "\n",
    "s = open('wordlist.txt','r').read()\n",
    "\n",
    "difficulty,words,definitions = sb.initialize(s)"
   ]
  },
  {
   "cell_type": "code",
   "execution_count": 2,
   "metadata": {},
   "outputs": [
    {
     "data": {
      "application/vnd.jupyter.widget-view+json": {
       "model_id": "ce797b2f93b3427597641a61a49a7e55",
       "version_major": 2,
       "version_minor": 0
      },
      "text/plain": [
       "Dropdown(description='Difficulty', options=('1', '2', '3', '4', '5'), value='1')"
      ]
     },
     "metadata": {},
     "output_type": "display_data"
    },
    {
     "data": {
      "application/vnd.jupyter.widget-view+json": {
       "model_id": "8df88c86aa1c447f9163ae7f987a3a11",
       "version_major": 2,
       "version_minor": 0
      },
      "text/plain": [
       "Button(description='Select a word', style=ButtonStyle())"
      ]
     },
     "metadata": {},
     "output_type": "display_data"
    }
   ],
   "source": [
    "# CELL 2\n",
    "\n",
    "if \"used_words\" in [x for x in globals()]:\n",
    "    difficulty,used_words = sb.start_game(words,definitions,difficulty,used_words)\n",
    "else:\n",
    "    difficulty,used_words = sb.start_game(words,definitions,difficulty)"
   ]
  },
  {
   "cell_type": "code",
   "execution_count": 3,
   "metadata": {},
   "outputs": [
    {
     "name": "stdout",
     "output_type": "stream",
     "text": [
      "Words Left\n",
      "Total: 1706\n",
      "In each category:\n",
      "1: 583\n",
      "2: 446\n",
      "3: 482\n",
      "4: 159\n",
      "5: 36\n",
      "\n",
      "Run this cell again to refresh\n"
     ]
    }
   ],
   "source": [
    "# CELL 3\n",
    "\n",
    "sb.words_in_categories(difficulty)"
   ]
  },
  {
   "cell_type": "code",
   "execution_count": 4,
   "metadata": {},
   "outputs": [
    {
     "name": "stdout",
     "output_type": "stream",
     "text": [
      "Used words \n",
      "1: \n",
      "2: \n",
      "3: \n",
      "4: \n",
      "5: \n",
      "\n",
      "Run this cell again to refresh\n"
     ]
    }
   ],
   "source": [
    "# CELL 4\n",
    "\n",
    "sb.words_left(used_words)"
   ]
  }
 ],
 "metadata": {
  "kernelspec": {
   "display_name": "Python 3",
   "language": "python",
   "name": "python3"
  },
  "language_info": {
   "codemirror_mode": {
    "name": "ipython",
    "version": 3
   },
   "file_extension": ".py",
   "mimetype": "text/x-python",
   "name": "python",
   "nbconvert_exporter": "python",
   "pygments_lexer": "ipython3",
   "version": "3.6.10"
  },
  "latex_envs": {
   "LaTeX_envs_menu_present": true,
   "autoclose": false,
   "autocomplete": true,
   "bibliofile": "biblio.bib",
   "cite_by": "apalike",
   "current_citInitial": 1,
   "eqLabelWithNumbers": true,
   "eqNumInitial": 1,
   "hotkeys": {
    "equation": "Ctrl-E",
    "itemize": "Ctrl-I"
   },
   "labels_anchors": false,
   "latex_user_defs": false,
   "report_style_numbering": false,
   "user_envs_cfg": false
  },
  "toc": {
   "base_numbering": 1,
   "nav_menu": {},
   "number_sections": true,
   "sideBar": false,
   "skip_h1_title": false,
   "title_cell": "Table of Contents",
   "title_sidebar": "Contents",
   "toc_cell": false,
   "toc_position": {},
   "toc_section_display": true,
   "toc_window_display": false
  },
  "varInspector": {
   "cols": {
    "lenName": 16,
    "lenType": 16,
    "lenVar": 40
   },
   "kernels_config": {
    "python": {
     "delete_cmd_postfix": "",
     "delete_cmd_prefix": "del ",
     "library": "var_list.py",
     "varRefreshCmd": "print(var_dic_list())"
    },
    "r": {
     "delete_cmd_postfix": ") ",
     "delete_cmd_prefix": "rm(",
     "library": "var_list.r",
     "varRefreshCmd": "cat(var_dic_list()) "
    }
   },
   "types_to_exclude": [
    "module",
    "function",
    "builtin_function_or_method",
    "instance",
    "_Feature"
   ],
   "window_display": false
  }
 },
 "nbformat": 4,
 "nbformat_minor": 2
}
